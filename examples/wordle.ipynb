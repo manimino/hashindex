{
 "cells": [
  {
   "cell_type": "markdown",
   "id": "a245e7b1",
   "metadata": {},
   "source": [
    "### Wordle solving\n",
    "\n",
    "Filtered is great at find-by-constraint, which is the key component of a Wordle solver.\n",
    "\n",
    "Wordle is a popular word game, playable [here](https://www.nytimes.com/games/wordle/index.html).\n",
    "\n",
    "This notebook shows how to efficiently create many filter functions - one for each letter and each position - without having to write each one by hand.\n",
    "\n",
    "Using Filtered is faster than linear-time Python filtering / list comprehensions here. See performance comparison at the end."
   ]
  },
  {
   "cell_type": "code",
   "execution_count": 1,
   "id": "38612ca0",
   "metadata": {},
   "outputs": [],
   "source": [
    "import os\n",
    "import string\n",
    "import time\n",
    "\n",
    "from collections import namedtuple\n",
    "from functools import partial\n",
    "from pathlib import Path\n",
    "from typing import Dict\n",
    "\n",
    "from filtered import FrozenFiltered"
   ]
  },
  {
   "cell_type": "markdown",
   "id": "d13cead4",
   "metadata": {},
   "source": [
    "#### Load data\n",
    "\n",
    "`wordle_words.csv` is a 2-column CSV containing all 5-letter words and their frequency in English."
   ]
  },
  {
   "cell_type": "code",
   "execution_count": 2,
   "id": "1a7afe3b",
   "metadata": {},
   "outputs": [
    {
     "name": "stdout",
     "output_type": "stream",
     "text": [
      "WordFreq(word='ABOUT', freq=1226734006)\n",
      "WordFreq(word='OTHER', freq=978481319)\n",
      "WordFreq(word='WHICH', freq=810514085)\n",
      "WordFreq(word='THEIR', freq=782849411)\n",
      "WordFreq(word='THERE', freq=701170205)\n",
      "WordFreq(word='FIRST', freq=578161543)\n",
      "WordFreq(word='WOULD', freq=572644147)\n",
      "WordFreq(word='THESE', freq=541003982)\n",
      "WordFreq(word='CLICK', freq=536746424)\n",
      "WordFreq(word='PRICE', freq=501651226)\n"
     ]
    }
   ],
   "source": [
    "cwd = Path(os.getcwd())\n",
    "words_file = cwd / 'data' / 'wordle_words.csv'\n",
    "WordFreq = namedtuple('WordFreq', ('word', 'freq'))\n",
    "\n",
    "def load_data() -> Dict[str, int]:\n",
    "    word_freqs = []\n",
    "    with open(words_file) as fh:\n",
    "        for i, line in enumerate(fh.readlines()):\n",
    "            if i == 0:  # header\n",
    "                continue\n",
    "            word, freq = line.strip().split(',')\n",
    "            word_freqs.append(WordFreq(word, int(freq)))\n",
    "    return word_freqs\n",
    "\n",
    "\n",
    "# Show the first 10 words\n",
    "word_freqs = load_data()\n",
    "for i in range(10):\n",
    "    print(word_freqs[i])"
   ]
  },
  {
   "cell_type": "markdown",
   "id": "fc804fa1",
   "metadata": {},
   "source": [
    "#### Create functions\n",
    "\n",
    "We want to filter words that have, or don't have:\n",
    " - A specific character in a specific position\n",
    " - A total count of a specific character, anywhere in the word\n",
    " \n",
    "So we'll make two sets of functions using `functools.partial`. \n",
    "Consult the [functools.partial](https://docs.python.org/3/library/functools.html#functools.partial)  documentation if needed."
   ]
  },
  {
   "cell_type": "code",
   "execution_count": 3,
   "id": "2b92e4d2",
   "metadata": {},
   "outputs": [],
   "source": [
    "# Generate 5 functions, one for each position, to fetch the letter at that position in the word.\n",
    "def char_at(pos, wf):\n",
    "    return wf.word[pos]\n",
    "\n",
    "def make_char_at_function(pos):\n",
    "    p = partial(char_at, pos)\n",
    "    p.__name__ = f'at_{pos}'\n",
    "    return p\n",
    "\n",
    "char_at = {pos: make_char_at_function(pos) for pos in range(5)}"
   ]
  },
  {
   "cell_type": "code",
   "execution_count": 4,
   "id": "71673079",
   "metadata": {},
   "outputs": [],
   "source": [
    "# Generate 26 functions that count the occurrences of the specific letter.\n",
    "\n",
    "def char_count(c, wf):\n",
    "    return wf.word.count(c)\n",
    "\n",
    "def make_char_count_function(letter):\n",
    "    p = partial(char_count, letter)\n",
    "    p.__name__ = f'count_{letter}'\n",
    "    return p\n",
    "\n",
    "char_count = {letter: make_char_count_function(letter) for letter in string.ascii_uppercase}"
   ]
  },
  {
   "cell_type": "markdown",
   "id": "8dc0bdce",
   "metadata": {},
   "source": [
    "#### Build Filtered\n",
    "\n",
    "Now that we have the objects and the functions we'll use as attributes, build the Filtered.\n",
    "\n",
    "We'll use a FrozenFiltered here, as it's faster and we don't expect the objects to change."
   ]
  },
  {
   "cell_type": "code",
   "execution_count": 5,
   "id": "ebd7da8f",
   "metadata": {},
   "outputs": [],
   "source": [
    "f = FrozenFiltered(word_freqs, on=list(char_at.values()) + list(char_count.values()))"
   ]
  },
  {
   "cell_type": "code",
   "execution_count": 6,
   "id": "29c4dce6",
   "metadata": {},
   "outputs": [],
   "source": [
    "def top_ten(word_freqs):\n",
    "    \"\"\"Prints the top ten most frequent words in the Filtered result.\"\"\"\n",
    "    top_ten = list(sorted(word_freqs, key = lambda w: w.freq, reverse=True))[:10]\n",
    "    print(f'{len(word_freqs)} words remain. \\nHere are the top ten most frequent:')\n",
    "    for wf in top_ten:\n",
    "        print(wf.word)"
   ]
  },
  {
   "attachments": {
    "image-2.png": {
     "image/png": "[encoded data removed]"
    }
   },
   "cell_type": "markdown",
   "id": "54f112ce",
   "metadata": {},
   "source": [
    "#### Let's solve! \n",
    "\n",
    "We don't know anything yet, so we'll just guess a common word.\n",
    "\n",
    "![image-2.png](attachment:image-2.png)"
   ]
  },
  {
   "cell_type": "code",
   "execution_count": 7,
   "id": "0747bda8",
   "metadata": {
    "scrolled": false
   },
   "outputs": [
    {
     "name": "stdout",
     "output_type": "stream",
     "text": [
      "12972 words remain. \n",
      "Here are the top ten most frequent:\n",
      "ABOUT\n",
      "OTHER\n",
      "WHICH\n",
      "THEIR\n",
      "THERE\n",
      "FIRST\n",
      "WOULD\n",
      "THESE\n",
      "CLICK\n",
      "PRICE\n"
     ]
    }
   ],
   "source": [
    "word_freqs = f.find()  # Query with no arguments to get all\n",
    "top_ten(word_freqs)    # print the top ten"
   ]
  },
  {
   "attachments": {
    "image.png": {
     "image/png": "[encoded data removed]"
    }
   },
   "cell_type": "markdown",
   "id": "2747c714",
   "metadata": {},
   "source": [
    "#### Guess 'ABOUT'\n",
    "\n",
    "Seems reasonable.\n",
    "\n",
    "![image.png](attachment:image.png)"
   ]
  },
  {
   "cell_type": "markdown",
   "id": "94dc2673",
   "metadata": {},
   "source": [
    "We now know some matching characteristics:\n",
    " - There are 0 'A's in the word\n",
    " - There are 0 'B's in the word\n",
    " - There are 0 'U's in the word\n",
    "\n",
    "And some exclusion characteristics:\n",
    " - Position 2 is not 'O' -- otherwise it would be green\n",
    " - Position 4 is not 'T' -- otherwise it would be green\n",
    " - There are more than 0 'O's in the word.\n",
    " - There are more than 0 'T's in the word."
   ]
  },
  {
   "cell_type": "code",
   "execution_count": 8,
   "id": "59b1e34a",
   "metadata": {},
   "outputs": [
    {
     "name": "stdout",
     "output_type": "stream",
     "text": [
      "306 words remain. \n",
      "Here are the top ten most frequent:\n",
      "OTHER\n",
      "HOTEL\n",
      "NORTH\n",
      "POSTS\n",
      "TOPIC\n",
      "MONTH\n",
      "COSTS\n",
      "OFTEN\n",
      "NOTES\n",
      "WORTH\n"
     ]
    }
   ],
   "source": [
    "word_freqs = f.find(\n",
    "    match={\n",
    "        char_count['A']: 0,\n",
    "        char_count['B']: 0,\n",
    "        char_count['U']: 0,\n",
    "    },\n",
    "    exclude={\n",
    "        char_at[2]: 'O',\n",
    "        char_at[4]: 'T',\n",
    "        char_count['O']: 0,\n",
    "        char_count['T']: 0,\n",
    "    }\n",
    ") \n",
    "top_ten(word_freqs)"
   ]
  },
  {
   "cell_type": "code",
   "execution_count": null,
   "id": "606f42a5",
   "metadata": {},
   "outputs": [],
   "source": []
  },
  {
   "cell_type": "code",
   "execution_count": 9,
   "id": "02ec962f",
   "metadata": {},
   "outputs": [
    {
     "name": "stdout",
     "output_type": "stream",
     "text": [
      "7642\n"
     ]
    }
   ],
   "source": [
    "x = f.find(match={char_count['A']: 0,}) \n",
    "print(len(x))"
   ]
  },
  {
   "attachments": {
    "image.png": {
     "image/png": "[encoded data removed]"
    }
   },
   "cell_type": "markdown",
   "id": "3583ece5",
   "metadata": {},
   "source": [
    "#### Guess 'OTHER'\n",
    "\n",
    "![image.png](attachment:image.png)"
   ]
  },
  {
   "cell_type": "markdown",
   "id": "96fa238a",
   "metadata": {},
   "source": [
    "We've got some new information on what to include:\n",
    " - There are 0 'H's\n",
    " - There are 0 'E's\n",
    " - There are 0 'R's\n",
    "\n",
    "And what to exclude:\n",
    " - There is no 'O' at position 0\n",
    " - There is no 'T' at position 1"
   ]
  },
  {
   "cell_type": "code",
   "execution_count": 10,
   "id": "0d192853",
   "metadata": {},
   "outputs": [
    {
     "name": "stdout",
     "output_type": "stream",
     "text": [
      "99 words remain. \n",
      "Here are the top ten most frequent:\n",
      "POSTS\n",
      "TOPIC\n",
      "COSTS\n",
      "TOWNS\n",
      "FONTS\n",
      "TOMMY\n",
      "TOXIC\n",
      "LOTTO\n",
      "MOTIF\n",
      "MONTY\n"
     ]
    }
   ],
   "source": [
    "word_freqs = f.find(\n",
    "    match={\n",
    "        char_count['A']: 0,\n",
    "        char_count['B']: 0,\n",
    "        char_count['E']: 0,\n",
    "        char_count['H']: 0,\n",
    "        char_count['R']: 0,\n",
    "        char_count['U']: 0,\n",
    "    },\n",
    "    exclude={\n",
    "        char_at[0]: 'O',\n",
    "        char_at[1]: 'T',\n",
    "        char_at[2]: 'O',\n",
    "        char_at[4]: 'T',\n",
    "        char_count['O']: 0,\n",
    "        char_count['T']: 0,\n",
    "    }\n",
    ") \n",
    "top_ten(word_freqs)"
   ]
  },
  {
   "attachments": {
    "image.png": {
     "image/png": "[encoded data removed]"
    }
   },
   "cell_type": "markdown",
   "id": "a731e6af",
   "metadata": {},
   "source": [
    "#### Guess 'POSTS'\n",
    "\n",
    "Getting somewhere.\n",
    "\n",
    "![image.png](attachment:image.png)"
   ]
  },
  {
   "cell_type": "markdown",
   "id": "711b6d80",
   "metadata": {},
   "source": [
    "Now we know:\n",
    " - 'O' is at position 1\n",
    " - 'T' is at position 3\n",
    " - There are 0 'P's\n",
    " - There are 0 'S's"
   ]
  },
  {
   "cell_type": "code",
   "execution_count": 11,
   "id": "42a56b6f",
   "metadata": {},
   "outputs": [
    {
     "name": "stdout",
     "output_type": "stream",
     "text": [
      "14 words remain. \n",
      "Here are the top ten most frequent:\n",
      "LOTTO\n",
      "MONTY\n",
      "MOTTO\n",
      "LOFTY\n",
      "MOLTO\n",
      "CONTO\n",
      "DOTTY\n",
      "TOTTY\n",
      "JONTY\n",
      "MOTTY\n"
     ]
    }
   ],
   "source": [
    "word_freqs = f.find(\n",
    "    match={\n",
    "        char_count['A']: 0,\n",
    "        char_count['B']: 0,\n",
    "        char_count['E']: 0,\n",
    "        char_count['H']: 0,\n",
    "        char_count['P']: 0,\n",
    "        char_count['R']: 0,\n",
    "        char_count['S']: 0,\n",
    "        char_count['U']: 0,\n",
    "        char_at[1]: 'O',\n",
    "        char_at[3]: 'T',\n",
    "    },\n",
    "    exclude={\n",
    "        char_at[0]: 'O',\n",
    "        char_at[1]: 'T',\n",
    "        char_at[2]: 'O',\n",
    "        char_at[4]: 'T',\n",
    "        char_count['O']: 0,\n",
    "        char_count['T']: 0,\n",
    "    }\n",
    ") \n",
    "top_ten(word_freqs)"
   ]
  },
  {
   "attachments": {
    "image.png": {
     "image/png": "[encoded data removed]"
    }
   },
   "cell_type": "markdown",
   "id": "419e56a5",
   "metadata": {},
   "source": [
    "#### Guess 'LOTTO'\n",
    "Are we lucky?\n",
    "\n",
    "![image.png](attachment:image.png)"
   ]
  },
  {
   "cell_type": "markdown",
   "id": "f127a889",
   "metadata": {},
   "source": [
    "Now we know:\n",
    " - There are 0 'L's\n",
    " - Position 2 is 'T'\n",
    " - Position 4 is 'O"
   ]
  },
  {
   "cell_type": "code",
   "execution_count": 12,
   "id": "12bc5d18",
   "metadata": {
    "scrolled": true
   },
   "outputs": [
    {
     "name": "stdout",
     "output_type": "stream",
     "text": [
      "1 words remain. \n",
      "Here are the top ten most frequent:\n",
      "MOTTO\n"
     ]
    }
   ],
   "source": [
    "word_freqs = f.find(\n",
    "    match={\n",
    "        char_count['A']: 0,\n",
    "        char_count['B']: 0,\n",
    "        char_count['E']: 0,\n",
    "        char_count['H']: 0,\n",
    "        char_count['L']: 0,\n",
    "        char_count['P']: 0,\n",
    "        char_count['R']: 0,\n",
    "        char_count['S']: 0,\n",
    "        char_count['U']: 0,\n",
    "        char_at[1]: 'O',\n",
    "        char_at[2]: 'T',\n",
    "        char_at[3]: 'T',\n",
    "        char_at[4]: 'O',\n",
    "    },\n",
    "    exclude={\n",
    "        char_at[0]: 'O',\n",
    "        char_at[1]: 'T',\n",
    "        char_at[2]: 'O',\n",
    "        char_at[4]: 'T',\n",
    "        char_count['O']: 0,\n",
    "        char_count['T']: 0,\n",
    "    }\n",
    ") \n",
    "top_ten(word_freqs)"
   ]
  },
  {
   "attachments": {
    "image.png": {
     "image/png": "[encoded data removed]"
    }
   },
   "cell_type": "markdown",
   "id": "bf490193",
   "metadata": {},
   "source": [
    "## Success!\n",
    "\n",
    "![image.png](attachment:image.png)"
   ]
  },
  {
   "cell_type": "markdown",
   "id": "d9cb87b5",
   "metadata": {},
   "source": [
    "There are better algorithms out there to solve Wordle, but Filtered alone does a pretty nice job."
   ]
  },
  {
   "cell_type": "markdown",
   "id": "30bac64d",
   "metadata": {},
   "source": [
    "### Performance Comparison\n",
    "\n",
    "Spoilers: Filtered is faster than Python's `filter` or list comprehension here. \n",
    "\n",
    "A dataset of size 13,000 is very small, so the outperformance is only about 4X. \n",
    "Filtered will outperform far better at larger scale, of course."
   ]
  },
  {
   "cell_type": "code",
   "execution_count": 13,
   "id": "2fa05b5d",
   "metadata": {},
   "outputs": [
    {
     "name": "stdout",
     "output_type": "stream",
     "text": [
      "dataset size is a mere 12972 words\n"
     ]
    }
   ],
   "source": [
    "# Get the word list\n",
    "word_freqs = load_data()\n",
    "words = [wf.word for wf in word_freqs]\n",
    "print('dataset size is a mere', len(words), 'words')"
   ]
  },
  {
   "cell_type": "code",
   "execution_count": 14,
   "id": "66abe862",
   "metadata": {},
   "outputs": [
    {
     "name": "stdout",
     "output_type": "stream",
     "text": [
      "969 µs ± 136 µs per loop (mean ± std. dev. of 10 runs, 10 loops each)\n"
     ]
    }
   ],
   "source": [
    "%%timeit -n 10 -r 10\n",
    "_ = f.find(\n",
    "    match={\n",
    "        char_at[1]: 'O',\n",
    "        char_at[2]: 'T',\n",
    "        char_at[3]: 'T',\n",
    "        char_at[4]: 'O',\n",
    "        char_count['A']: 0,\n",
    "        char_count['B']: 0,\n",
    "        char_count['E']: 0,\n",
    "        char_count['H']: 0,\n",
    "        char_count['L']: 0,\n",
    "        char_count['P']: 0,\n",
    "        char_count['R']: 0,\n",
    "        char_count['S']: 0,\n",
    "        char_count['U']: 0,\n",
    "    },\n",
    "    exclude={\n",
    "        char_at[0]: 'O',\n",
    "        char_at[1]: 'T',\n",
    "        char_at[2]: 'O',\n",
    "        char_at[4]: 'T',\n",
    "        char_count['O']: 0,\n",
    "        char_count['T']: 0,\n",
    "    }\n",
    ") \n",
    "\n",
    "# Filtered result, nice and fast..."
   ]
  },
  {
   "cell_type": "code",
   "execution_count": 15,
   "id": "b1e800c3",
   "metadata": {},
   "outputs": [
    {
     "name": "stdout",
     "output_type": "stream",
     "text": [
      "3.87 ms ± 172 µs per loop (mean ± std. dev. of 10 runs, 10 loops each)\n"
     ]
    }
   ],
   "source": [
    "%%timeit -n 10 -r 10\n",
    "_ = [\n",
    "    w for w in words if\n",
    "    w.count('A') == 0 and\n",
    "    w.count('B') == 0 and\n",
    "    w.count('E') == 0 and\n",
    "    w.count('H') == 0 and\n",
    "    w.count('L') == 0 and\n",
    "    w.count('P') == 0 and\n",
    "    w.count('R') == 0 and\n",
    "    w.count('S') == 0 and\n",
    "    w.count('U') == 0 and\n",
    "    w[1] == 'O' and\n",
    "    w[2] == 'T' and\n",
    "    w[3] == 'T' and \n",
    "    w[4] == 'O' and\n",
    "    w[0] != 'O' and \n",
    "    w[1] != 'T' and\n",
    "    w[2] != 'O' and\n",
    "    w[4] != 'T' and\n",
    "    w.count('O') != 0 and\n",
    "    w.count('T') != 0\n",
    "    ]\n",
    "\n",
    "# Python list comprehension result is..."
   ]
  },
  {
   "cell_type": "code",
   "execution_count": 16,
   "id": "369b02a1",
   "metadata": {},
   "outputs": [
    {
     "name": "stdout",
     "output_type": "stream",
     "text": [
      "4.39 ms ± 93.2 µs per loop (mean ± std. dev. of 10 runs, 10 loops each)\n"
     ]
    }
   ],
   "source": [
    "%%timeit -n 10 -r 10\n",
    "\n",
    "_ = list(filter(lambda w: \n",
    "    w.count('A') == 0 and\n",
    "    w.count('B') == 0 and\n",
    "    w.count('E') == 0 and\n",
    "    w.count('H') == 0 and\n",
    "    w.count('L') == 0 and\n",
    "    w.count('P') == 0 and\n",
    "    w.count('R') == 0 and\n",
    "    w.count('S') == 0 and\n",
    "    w.count('U') == 0 and\n",
    "    w[1] == 'O' and\n",
    "    w[2] == 'T' and\n",
    "    w[3] == 'T' and \n",
    "    w[4] == 'O' and\n",
    "    w[0] != 'O' and \n",
    "    w[1] != 'T' and\n",
    "    w[2] != 'O' and\n",
    "    w[4] != 'T' and\n",
    "    w.count('O') != 0 and\n",
    "    w.count('T') != 0, words))\n",
    "# Python filter() function results..."
   ]
  },
  {
   "cell_type": "code",
   "execution_count": null,
   "id": "bdb331f9",
   "metadata": {},
   "outputs": [],
   "source": []
  }
 ],
 "metadata": {
  "kernelspec": {
   "display_name": "Python 3 (ipykernel)",
   "language": "python",
   "name": "python3"
  },
  "language_info": {
   "codemirror_mode": {
    "name": "ipython",
    "version": 3
   },
   "file_extension": ".py",
   "mimetype": "text/x-python",
   "name": "python",
   "nbconvert_exporter": "python",
   "pygments_lexer": "ipython3",
   "version": "3.9.7"
  }
 },
 "nbformat": 4,
 "nbformat_minor": 5
}
